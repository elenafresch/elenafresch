{
 "cells": [
  {
   "cell_type": "markdown",
   "metadata": {},
   "source": [
    "Highberg Assignme"
   ]
  },
  {
   "cell_type": "code",
   "execution_count": 11,
   "metadata": {},
   "outputs": [
    {
     "data": {
      "text/plain": [
       "468"
      ]
     },
     "execution_count": 11,
     "metadata": {},
     "output_type": "execute_result"
    }
   ],
   "source": [
    "import pandas as pd\n",
    "from sqlalchemy import create_engine\n",
    "\n",
    "# Read dataset file\n",
    "df = pd.read_excel(\"Highberg.xlsx\", engine=\"openpyxl\")\n",
    "\n",
    "# Create an in-memory SQLite database\n",
    "engine = create_engine(\"sqlite:///my_temp.db\")\n",
    "\n",
    "# Load df into SQL table\n",
    "df.to_sql(\"company\", con=engine, index=False)"
   ]
  },
  {
   "cell_type": "markdown",
   "metadata": {},
   "source": [
    "Adding SQL magic to query the data frame."
   ]
  },
  {
   "cell_type": "code",
   "execution_count": 12,
   "metadata": {},
   "outputs": [
    {
     "name": "stdout",
     "output_type": "stream",
     "text": [
      "The sql extension is already loaded. To reload it, use:\n",
      "  %reload_ext sql\n"
     ]
    }
   ],
   "source": [
    "%load_ext sql\n",
    "%sql sqlite:///my_temp.db"
   ]
  },
  {
   "cell_type": "code",
   "execution_count": 28,
   "metadata": {
    "vscode": {
     "languageId": "sql"
    }
   },
   "outputs": [
    {
     "name": "stdout",
     "output_type": "stream",
     "text": [
      "   sqlite://\n",
      " * sqlite:///my_temp.db\n",
      "Done.\n"
     ]
    },
    {
     "data": {
      "text/html": [
       "<table>\n",
       "    <thead>\n",
       "        <tr>\n",
       "            <th>cid</th>\n",
       "            <th>name</th>\n",
       "            <th>type</th>\n",
       "            <th>notnull</th>\n",
       "            <th>dflt_value</th>\n",
       "            <th>pk</th>\n",
       "        </tr>\n",
       "    </thead>\n",
       "    <tbody>\n",
       "        <tr>\n",
       "            <td>0</td>\n",
       "            <td>Employee_ID</td>\n",
       "            <td>BIGINT</td>\n",
       "            <td>0</td>\n",
       "            <td>None</td>\n",
       "            <td>0</td>\n",
       "        </tr>\n",
       "        <tr>\n",
       "            <td>1</td>\n",
       "            <td>Start_Month</td>\n",
       "            <td>DATETIME</td>\n",
       "            <td>0</td>\n",
       "            <td>None</td>\n",
       "            <td>0</td>\n",
       "        </tr>\n",
       "        <tr>\n",
       "            <td>2</td>\n",
       "            <td>Stop_Month</td>\n",
       "            <td>DATETIME</td>\n",
       "            <td>0</td>\n",
       "            <td>None</td>\n",
       "            <td>0</td>\n",
       "        </tr>\n",
       "        <tr>\n",
       "            <td>3</td>\n",
       "            <td>Gender</td>\n",
       "            <td>TEXT</td>\n",
       "            <td>0</td>\n",
       "            <td>None</td>\n",
       "            <td>0</td>\n",
       "        </tr>\n",
       "        <tr>\n",
       "            <td>4</td>\n",
       "            <td>Birth_Date</td>\n",
       "            <td>DATETIME</td>\n",
       "            <td>0</td>\n",
       "            <td>None</td>\n",
       "            <td>0</td>\n",
       "        </tr>\n",
       "        <tr>\n",
       "            <td>5</td>\n",
       "            <td>Department</td>\n",
       "            <td>TEXT</td>\n",
       "            <td>0</td>\n",
       "            <td>None</td>\n",
       "            <td>0</td>\n",
       "        </tr>\n",
       "        <tr>\n",
       "            <td>6</td>\n",
       "            <td>Salary_Scale</td>\n",
       "            <td>BIGINT</td>\n",
       "            <td>0</td>\n",
       "            <td>None</td>\n",
       "            <td>0</td>\n",
       "        </tr>\n",
       "        <tr>\n",
       "            <td>7</td>\n",
       "            <td>Salary</td>\n",
       "            <td>BIGINT</td>\n",
       "            <td>0</td>\n",
       "            <td>None</td>\n",
       "            <td>0</td>\n",
       "        </tr>\n",
       "        <tr>\n",
       "            <td>8</td>\n",
       "            <td>Type_of_Contract</td>\n",
       "            <td>TEXT</td>\n",
       "            <td>0</td>\n",
       "            <td>None</td>\n",
       "            <td>0</td>\n",
       "        </tr>\n",
       "        <tr>\n",
       "            <td>9</td>\n",
       "            <td>Emotional_Stability</td>\n",
       "            <td>FLOAT</td>\n",
       "            <td>0</td>\n",
       "            <td>None</td>\n",
       "            <td>0</td>\n",
       "        </tr>\n",
       "        <tr>\n",
       "            <td>10</td>\n",
       "            <td>Extraversion</td>\n",
       "            <td>FLOAT</td>\n",
       "            <td>0</td>\n",
       "            <td>None</td>\n",
       "            <td>0</td>\n",
       "        </tr>\n",
       "        <tr>\n",
       "            <td>11</td>\n",
       "            <td>Openness</td>\n",
       "            <td>FLOAT</td>\n",
       "            <td>0</td>\n",
       "            <td>None</td>\n",
       "            <td>0</td>\n",
       "        </tr>\n",
       "        <tr>\n",
       "            <td>12</td>\n",
       "            <td>Agreeableness</td>\n",
       "            <td>FLOAT</td>\n",
       "            <td>0</td>\n",
       "            <td>None</td>\n",
       "            <td>0</td>\n",
       "        </tr>\n",
       "        <tr>\n",
       "            <td>13</td>\n",
       "            <td>Reliability</td>\n",
       "            <td>FLOAT</td>\n",
       "            <td>0</td>\n",
       "            <td>None</td>\n",
       "            <td>0</td>\n",
       "        </tr>\n",
       "        <tr>\n",
       "            <td>14</td>\n",
       "            <td>Assessment_Score</td>\n",
       "            <td>FLOAT</td>\n",
       "            <td>0</td>\n",
       "            <td>None</td>\n",
       "            <td>0</td>\n",
       "        </tr>\n",
       "        <tr>\n",
       "            <td>15</td>\n",
       "            <td>Distance_Work_KM</td>\n",
       "            <td>BIGINT</td>\n",
       "            <td>0</td>\n",
       "            <td>None</td>\n",
       "            <td>0</td>\n",
       "        </tr>\n",
       "        <tr>\n",
       "            <td>16</td>\n",
       "            <td>Work_Engagement</td>\n",
       "            <td>FLOAT</td>\n",
       "            <td>0</td>\n",
       "            <td>None</td>\n",
       "            <td>0</td>\n",
       "        </tr>\n",
       "        <tr>\n",
       "            <td>17</td>\n",
       "            <td>Performance_Assessment</td>\n",
       "            <td>BIGINT</td>\n",
       "            <td>0</td>\n",
       "            <td>None</td>\n",
       "            <td>0</td>\n",
       "        </tr>\n",
       "    </tbody>\n",
       "</table>"
      ],
      "text/plain": [
       "[(0, 'Employee_ID', 'BIGINT', 0, None, 0),\n",
       " (1, 'Start_Month', 'DATETIME', 0, None, 0),\n",
       " (2, 'Stop_Month', 'DATETIME', 0, None, 0),\n",
       " (3, 'Gender', 'TEXT', 0, None, 0),\n",
       " (4, 'Birth_Date', 'DATETIME', 0, None, 0),\n",
       " (5, 'Department', 'TEXT', 0, None, 0),\n",
       " (6, 'Salary_Scale', 'BIGINT', 0, None, 0),\n",
       " (7, 'Salary', 'BIGINT', 0, None, 0),\n",
       " (8, 'Type_of_Contract', 'TEXT', 0, None, 0),\n",
       " (9, 'Emotional_Stability', 'FLOAT', 0, None, 0),\n",
       " (10, 'Extraversion', 'FLOAT', 0, None, 0),\n",
       " (11, 'Openness', 'FLOAT', 0, None, 0),\n",
       " (12, 'Agreeableness', 'FLOAT', 0, None, 0),\n",
       " (13, 'Reliability', 'FLOAT', 0, None, 0),\n",
       " (14, 'Assessment_Score', 'FLOAT', 0, None, 0),\n",
       " (15, 'Distance_Work_KM', 'BIGINT', 0, None, 0),\n",
       " (16, 'Work_Engagement', 'FLOAT', 0, None, 0),\n",
       " (17, 'Performance_Assessment', 'BIGINT', 0, None, 0)]"
      ]
     },
     "execution_count": 28,
     "metadata": {},
     "output_type": "execute_result"
    }
   ],
   "source": [
    "%%sql\n",
    "PRAGMA table_info(company);"
   ]
  },
  {
   "cell_type": "code",
   "execution_count": 13,
   "metadata": {
    "vscode": {
     "languageId": "sql"
    }
   },
   "outputs": [
    {
     "name": "stdout",
     "output_type": "stream",
     "text": [
      "   sqlite://\n",
      " * sqlite:///my_temp.db\n",
      "Done.\n"
     ]
    },
    {
     "data": {
      "text/html": [
       "<table>\n",
       "    <thead>\n",
       "        <tr>\n",
       "            <th>Employee_ID</th>\n",
       "            <th>Start_Month</th>\n",
       "            <th>Stop_Month</th>\n",
       "            <th>Gender</th>\n",
       "            <th>Birth_Date</th>\n",
       "            <th>Department</th>\n",
       "            <th>Salary_Scale</th>\n",
       "            <th>Salary</th>\n",
       "            <th>Type_of_Contract</th>\n",
       "            <th>Emotional_Stability</th>\n",
       "            <th>Extraversion</th>\n",
       "            <th>Openness</th>\n",
       "            <th>Agreeableness</th>\n",
       "            <th>Reliability</th>\n",
       "            <th>Assessment_Score</th>\n",
       "            <th>Distance_Work_KM</th>\n",
       "            <th>Work_Engagement</th>\n",
       "            <th>Performance_Assessment</th>\n",
       "        </tr>\n",
       "    </thead>\n",
       "    <tbody>\n",
       "        <tr>\n",
       "            <td>1000102</td>\n",
       "            <td>2015-01-28 00:00:00.000000</td>\n",
       "            <td>2017-08-28 00:00:00.000000</td>\n",
       "            <td>M</td>\n",
       "            <td>1984-01-21 00:00:00.000000</td>\n",
       "            <td>Operations</td>\n",
       "            <td>2</td>\n",
       "            <td>34320</td>\n",
       "            <td>Permanent</td>\n",
       "            <td>5.0</td>\n",
       "            <td>8.0</td>\n",
       "            <td>7.0</td>\n",
       "            <td>9.0</td>\n",
       "            <td>6.0</td>\n",
       "            <td>7.0</td>\n",
       "            <td>53</td>\n",
       "            <td>1.2</td>\n",
       "            <td>3</td>\n",
       "        </tr>\n",
       "        <tr>\n",
       "            <td>1000103</td>\n",
       "            <td>2015-03-28 00:00:00.000000</td>\n",
       "            <td>2020-01-28 00:00:00.000000</td>\n",
       "            <td>M</td>\n",
       "            <td>1972-03-03 00:00:00.000000</td>\n",
       "            <td>Operations</td>\n",
       "            <td>4</td>\n",
       "            <td>88000</td>\n",
       "            <td>Permanent</td>\n",
       "            <td>4.0</td>\n",
       "            <td>4.0</td>\n",
       "            <td>3.0</td>\n",
       "            <td>6.0</td>\n",
       "            <td>5.0</td>\n",
       "            <td>6.0</td>\n",
       "            <td>50</td>\n",
       "            <td>1.0</td>\n",
       "            <td>3</td>\n",
       "        </tr>\n",
       "        <tr>\n",
       "            <td>1010166</td>\n",
       "            <td>2015-02-28 00:00:00.000000</td>\n",
       "            <td>None</td>\n",
       "            <td>M</td>\n",
       "            <td>1957-07-17 00:00:00.000000</td>\n",
       "            <td>Operations</td>\n",
       "            <td>4</td>\n",
       "            <td>77855</td>\n",
       "            <td>Permanent</td>\n",
       "            <td>2.0</td>\n",
       "            <td>3.0</td>\n",
       "            <td>3.0</td>\n",
       "            <td>9.0</td>\n",
       "            <td>6.0</td>\n",
       "            <td>7.0</td>\n",
       "            <td>50</td>\n",
       "            <td>2.2</td>\n",
       "            <td>5</td>\n",
       "        </tr>\n",
       "        <tr>\n",
       "            <td>1010170</td>\n",
       "            <td>2015-02-28 00:00:00.000000</td>\n",
       "            <td>2017-10-28 00:00:00.000000</td>\n",
       "            <td>M</td>\n",
       "            <td>1981-04-20 00:00:00.000000</td>\n",
       "            <td>Operations</td>\n",
       "            <td>2</td>\n",
       "            <td>32960</td>\n",
       "            <td>Permanent</td>\n",
       "            <td>1.0</td>\n",
       "            <td>9.0</td>\n",
       "            <td>7.0</td>\n",
       "            <td>5.0</td>\n",
       "            <td>3.0</td>\n",
       "            <td>7.0</td>\n",
       "            <td>43</td>\n",
       "            <td>1.3</td>\n",
       "            <td>2</td>\n",
       "        </tr>\n",
       "        <tr>\n",
       "            <td>1010171</td>\n",
       "            <td>2015-02-28 00:00:00.000000</td>\n",
       "            <td>2020-04-28 00:00:00.000000</td>\n",
       "            <td>F</td>\n",
       "            <td>1981-03-30 00:00:00.000000</td>\n",
       "            <td>Operations</td>\n",
       "            <td>2</td>\n",
       "            <td>41620</td>\n",
       "            <td>Permanent</td>\n",
       "            <td>9.0</td>\n",
       "            <td>8.0</td>\n",
       "            <td>5.0</td>\n",
       "            <td>5.0</td>\n",
       "            <td>8.0</td>\n",
       "            <td>3.0</td>\n",
       "            <td>35</td>\n",
       "            <td>1.2</td>\n",
       "            <td>1</td>\n",
       "        </tr>\n",
       "        <tr>\n",
       "            <td>1010174</td>\n",
       "            <td>2015-02-28 00:00:00.000000</td>\n",
       "            <td>2017-10-28 00:00:00.000000</td>\n",
       "            <td>M</td>\n",
       "            <td>1986-12-10 00:00:00.000000</td>\n",
       "            <td>Operations</td>\n",
       "            <td>2</td>\n",
       "            <td>37850</td>\n",
       "            <td>Permanent</td>\n",
       "            <td>7.0</td>\n",
       "            <td>4.0</td>\n",
       "            <td>7.0</td>\n",
       "            <td>2.0</td>\n",
       "            <td>2.0</td>\n",
       "            <td>7.0</td>\n",
       "            <td>35</td>\n",
       "            <td>1.6</td>\n",
       "            <td>2</td>\n",
       "        </tr>\n",
       "        <tr>\n",
       "            <td>1010213</td>\n",
       "            <td>2015-04-28 00:00:00.000000</td>\n",
       "            <td>None</td>\n",
       "            <td>M</td>\n",
       "            <td>1980-03-04 00:00:00.000000</td>\n",
       "            <td>Operations</td>\n",
       "            <td>4</td>\n",
       "            <td>62450</td>\n",
       "            <td>Permanent</td>\n",
       "            <td>8.0</td>\n",
       "            <td>5.0</td>\n",
       "            <td>9.0</td>\n",
       "            <td>9.0</td>\n",
       "            <td>2.0</td>\n",
       "            <td>5.0</td>\n",
       "            <td>26</td>\n",
       "            <td>2.0</td>\n",
       "            <td>9</td>\n",
       "        </tr>\n",
       "        <tr>\n",
       "            <td>1010219</td>\n",
       "            <td>2015-04-28 00:00:00.000000</td>\n",
       "            <td>2017-12-28 00:00:00.000000</td>\n",
       "            <td>M</td>\n",
       "            <td>1972-08-21 00:00:00.000000</td>\n",
       "            <td>Sales</td>\n",
       "            <td>4</td>\n",
       "            <td>87815</td>\n",
       "            <td>Fixed-term</td>\n",
       "            <td>2.0</td>\n",
       "            <td>9.0</td>\n",
       "            <td>9.0</td>\n",
       "            <td>6.0</td>\n",
       "            <td>6.0</td>\n",
       "            <td>7.0</td>\n",
       "            <td>43</td>\n",
       "            <td>1.6</td>\n",
       "            <td>4</td>\n",
       "        </tr>\n",
       "        <tr>\n",
       "            <td>1010221</td>\n",
       "            <td>2015-04-28 00:00:00.000000</td>\n",
       "            <td>None</td>\n",
       "            <td>M</td>\n",
       "            <td>1974-06-04 00:00:00.000000</td>\n",
       "            <td>Operations</td>\n",
       "            <td>4</td>\n",
       "            <td>64190</td>\n",
       "            <td>Permanent</td>\n",
       "            <td>2.0</td>\n",
       "            <td>1.0</td>\n",
       "            <td>6.0</td>\n",
       "            <td>3.0</td>\n",
       "            <td>3.0</td>\n",
       "            <td>5.0</td>\n",
       "            <td>60</td>\n",
       "            <td>4.0</td>\n",
       "            <td>8</td>\n",
       "        </tr>\n",
       "        <tr>\n",
       "            <td>1010231</td>\n",
       "            <td>2015-04-28 00:00:00.000000</td>\n",
       "            <td>2017-12-28 00:00:00.000000</td>\n",
       "            <td>M</td>\n",
       "            <td>1975-11-11 00:00:00.000000</td>\n",
       "            <td>Sales</td>\n",
       "            <td>4</td>\n",
       "            <td>71650</td>\n",
       "            <td>Fixed-term</td>\n",
       "            <td>9.0</td>\n",
       "            <td>6.0</td>\n",
       "            <td>6.0</td>\n",
       "            <td>4.0</td>\n",
       "            <td>7.0</td>\n",
       "            <td>7.0</td>\n",
       "            <td>33</td>\n",
       "            <td>3.0</td>\n",
       "            <td>5</td>\n",
       "        </tr>\n",
       "    </tbody>\n",
       "</table>"
      ],
      "text/plain": [
       "[(1000102, '2015-01-28 00:00:00.000000', '2017-08-28 00:00:00.000000', 'M', '1984-01-21 00:00:00.000000', 'Operations', 2, 34320, 'Permanent', 5.0, 8.0, 7.0, 9.0, 6.0, 7.0, 53, 1.2, 3),\n",
       " (1000103, '2015-03-28 00:00:00.000000', '2020-01-28 00:00:00.000000', 'M', '1972-03-03 00:00:00.000000', 'Operations', 4, 88000, 'Permanent', 4.0, 4.0, 3.0, 6.0, 5.0, 6.0, 50, 1.0, 3),\n",
       " (1010166, '2015-02-28 00:00:00.000000', None, 'M', '1957-07-17 00:00:00.000000', 'Operations', 4, 77855, 'Permanent', 2.0, 3.0, 3.0, 9.0, 6.0, 7.0, 50, 2.2, 5),\n",
       " (1010170, '2015-02-28 00:00:00.000000', '2017-10-28 00:00:00.000000', 'M', '1981-04-20 00:00:00.000000', 'Operations', 2, 32960, 'Permanent', 1.0, 9.0, 7.0, 5.0, 3.0, 7.0, 43, 1.3, 2),\n",
       " (1010171, '2015-02-28 00:00:00.000000', '2020-04-28 00:00:00.000000', 'F', '1981-03-30 00:00:00.000000', 'Operations', 2, 41620, 'Permanent', 9.0, 8.0, 5.0, 5.0, 8.0, 3.0, 35, 1.2, 1),\n",
       " (1010174, '2015-02-28 00:00:00.000000', '2017-10-28 00:00:00.000000', 'M', '1986-12-10 00:00:00.000000', 'Operations', 2, 37850, 'Permanent', 7.0, 4.0, 7.0, 2.0, 2.0, 7.0, 35, 1.6, 2),\n",
       " (1010213, '2015-04-28 00:00:00.000000', None, 'M', '1980-03-04 00:00:00.000000', 'Operations', 4, 62450, 'Permanent', 8.0, 5.0, 9.0, 9.0, 2.0, 5.0, 26, 2.0, 9),\n",
       " (1010219, '2015-04-28 00:00:00.000000', '2017-12-28 00:00:00.000000', 'M', '1972-08-21 00:00:00.000000', 'Sales', 4, 87815, 'Fixed-term', 2.0, 9.0, 9.0, 6.0, 6.0, 7.0, 43, 1.6, 4),\n",
       " (1010221, '2015-04-28 00:00:00.000000', None, 'M', '1974-06-04 00:00:00.000000', 'Operations', 4, 64190, 'Permanent', 2.0, 1.0, 6.0, 3.0, 3.0, 5.0, 60, 4.0, 8),\n",
       " (1010231, '2015-04-28 00:00:00.000000', '2017-12-28 00:00:00.000000', 'M', '1975-11-11 00:00:00.000000', 'Sales', 4, 71650, 'Fixed-term', 9.0, 6.0, 6.0, 4.0, 7.0, 7.0, 33, 3.0, 5)]"
      ]
     },
     "execution_count": 13,
     "metadata": {},
     "output_type": "execute_result"
    }
   ],
   "source": [
    "%%sql\n",
    "\n",
    "SELECT * FROM company LIMIT 10;"
   ]
  },
  {
   "cell_type": "markdown",
   "metadata": {},
   "source": []
  },
  {
   "cell_type": "markdown",
   "metadata": {},
   "source": [
    "4. How many employees were working in the Operations department on 28 July 2020?"
   ]
  },
  {
   "cell_type": "code",
   "execution_count": 21,
   "metadata": {
    "vscode": {
     "languageId": "sql"
    }
   },
   "outputs": [
    {
     "name": "stdout",
     "output_type": "stream",
     "text": [
      "   sqlite://\n",
      " * sqlite:///my_temp.db\n",
      "Done.\n"
     ]
    },
    {
     "data": {
      "text/html": [
       "<table>\n",
       "    <thead>\n",
       "        <tr>\n",
       "            <th>COUNT(*)</th>\n",
       "        </tr>\n",
       "    </thead>\n",
       "    <tbody>\n",
       "        <tr>\n",
       "            <td>4</td>\n",
       "        </tr>\n",
       "    </tbody>\n",
       "</table>"
      ],
      "text/plain": [
       "[(4,)]"
      ]
     },
     "execution_count": 21,
     "metadata": {},
     "output_type": "execute_result"
    }
   ],
   "source": [
    "%%sql\n",
    "\n",
    "SELECT COUNT(*)\n",
    "FROM company\n",
    "WHERE \n",
    "    department = \"Operations\" \n",
    "    AND '2020-07-28' BETWEEN start_month AND stop_month;"
   ]
  },
  {
   "cell_type": "markdown",
   "metadata": {},
   "source": [
    "5. How many employees in the Operations department were on permanent contracts on 28 December\n",
    "2019?"
   ]
  },
  {
   "cell_type": "code",
   "execution_count": 22,
   "metadata": {
    "vscode": {
     "languageId": "sql"
    }
   },
   "outputs": [
    {
     "name": "stdout",
     "output_type": "stream",
     "text": [
      "   sqlite://\n",
      " * sqlite:///my_temp.db\n",
      "Done.\n"
     ]
    },
    {
     "data": {
      "text/html": [
       "<table>\n",
       "    <thead>\n",
       "        <tr>\n",
       "            <th>COUNT(*)</th>\n",
       "        </tr>\n",
       "    </thead>\n",
       "    <tbody>\n",
       "        <tr>\n",
       "            <td>57</td>\n",
       "        </tr>\n",
       "    </tbody>\n",
       "</table>"
      ],
      "text/plain": [
       "[(57,)]"
      ]
     },
     "execution_count": 22,
     "metadata": {},
     "output_type": "execute_result"
    }
   ],
   "source": [
    "%%sql\n",
    "\n",
    "SELECT COUNT(*)\n",
    "FROM company\n",
    "WHERE \n",
    "    department = \"Operations\" \n",
    "    AND ('2019-12-28' BETWEEN start_month AND stop_month)\n",
    "    AND type_of_contract = \"Permanent\";"
   ]
  },
  {
   "cell_type": "markdown",
   "metadata": {},
   "source": [
    "6. What is the average distance, in kilometres, between home and work for everyone who has ever worked at company_Y ?"
   ]
  },
  {
   "cell_type": "code",
   "execution_count": 25,
   "metadata": {
    "vscode": {
     "languageId": "sql"
    }
   },
   "outputs": [
    {
     "name": "stdout",
     "output_type": "stream",
     "text": [
      "   sqlite://\n",
      " * sqlite:///my_temp.db\n",
      "Done.\n"
     ]
    },
    {
     "data": {
      "text/html": [
       "<table>\n",
       "    <thead>\n",
       "        <tr>\n",
       "            <th>ROUND(AVG(distance_work_km), 2)</th>\n",
       "        </tr>\n",
       "    </thead>\n",
       "    <tbody>\n",
       "        <tr>\n",
       "            <td>26.99</td>\n",
       "        </tr>\n",
       "    </tbody>\n",
       "</table>"
      ],
      "text/plain": [
       "[(26.99,)]"
      ]
     },
     "execution_count": 25,
     "metadata": {},
     "output_type": "execute_result"
    }
   ],
   "source": [
    "%%sql\n",
    "\n",
    "SELECT ROUND(AVG(distance_work_km), 2)\n",
    "FROM company;"
   ]
  },
  {
   "cell_type": "markdown",
   "metadata": {},
   "source": [
    "7. Was there a difference, on 28 July 2020, between the average salaries of the men and women who still work there?"
   ]
  },
  {
   "cell_type": "code",
   "execution_count": 26,
   "metadata": {
    "vscode": {
     "languageId": "sql"
    }
   },
   "outputs": [
    {
     "name": "stdout",
     "output_type": "stream",
     "text": [
      "   sqlite://\n",
      " * sqlite:///my_temp.db\n",
      "Done.\n"
     ]
    },
    {
     "data": {
      "text/html": [
       "<table>\n",
       "    <thead>\n",
       "        <tr>\n",
       "            <th>Gender</th>\n",
       "            <th>ROUND(AVG(salary), 2)</th>\n",
       "        </tr>\n",
       "    </thead>\n",
       "    <tbody>\n",
       "        <tr>\n",
       "            <td>F</td>\n",
       "            <td>42559.39</td>\n",
       "        </tr>\n",
       "        <tr>\n",
       "            <td>M</td>\n",
       "            <td>47043.4</td>\n",
       "        </tr>\n",
       "    </tbody>\n",
       "</table>"
      ],
      "text/plain": [
       "[('F', 42559.39), ('M', 47043.4)]"
      ]
     },
     "execution_count": 26,
     "metadata": {},
     "output_type": "execute_result"
    }
   ],
   "source": [
    "%%sql\n",
    "\n",
    "SELECT gender, ROUND(AVG(salary), 2)\n",
    "FROM company\n",
    "GROUP BY gender;"
   ]
  },
  {
   "cell_type": "markdown",
   "metadata": {},
   "source": [
    "8. Which factors exhibit the strongest relationship with people leaving the organisation? Design a model that predicts per employee still working there on **1 August 2020** the probability of leaving within 12 months."
   ]
  },
  {
   "cell_type": "code",
   "execution_count": 29,
   "metadata": {
    "vscode": {
     "languageId": "sql"
    }
   },
   "outputs": [
    {
     "name": "stdout",
     "output_type": "stream",
     "text": [
      "   sqlite://\n",
      " * sqlite:///my_temp.db\n",
      "Done.\n"
     ]
    },
    {
     "data": {
      "text/html": [
       "<table>\n",
       "    <thead>\n",
       "        <tr>\n",
       "            <th>cid</th>\n",
       "            <th>name</th>\n",
       "            <th>type</th>\n",
       "            <th>notnull</th>\n",
       "            <th>dflt_value</th>\n",
       "            <th>pk</th>\n",
       "        </tr>\n",
       "    </thead>\n",
       "    <tbody>\n",
       "        <tr>\n",
       "            <td>0</td>\n",
       "            <td>Employee_ID</td>\n",
       "            <td>BIGINT</td>\n",
       "            <td>0</td>\n",
       "            <td>None</td>\n",
       "            <td>0</td>\n",
       "        </tr>\n",
       "        <tr>\n",
       "            <td>1</td>\n",
       "            <td>Start_Month</td>\n",
       "            <td>DATETIME</td>\n",
       "            <td>0</td>\n",
       "            <td>None</td>\n",
       "            <td>0</td>\n",
       "        </tr>\n",
       "        <tr>\n",
       "            <td>2</td>\n",
       "            <td>Stop_Month</td>\n",
       "            <td>DATETIME</td>\n",
       "            <td>0</td>\n",
       "            <td>None</td>\n",
       "            <td>0</td>\n",
       "        </tr>\n",
       "        <tr>\n",
       "            <td>3</td>\n",
       "            <td>Gender</td>\n",
       "            <td>TEXT</td>\n",
       "            <td>0</td>\n",
       "            <td>None</td>\n",
       "            <td>0</td>\n",
       "        </tr>\n",
       "        <tr>\n",
       "            <td>4</td>\n",
       "            <td>Birth_Date</td>\n",
       "            <td>DATETIME</td>\n",
       "            <td>0</td>\n",
       "            <td>None</td>\n",
       "            <td>0</td>\n",
       "        </tr>\n",
       "        <tr>\n",
       "            <td>5</td>\n",
       "            <td>Department</td>\n",
       "            <td>TEXT</td>\n",
       "            <td>0</td>\n",
       "            <td>None</td>\n",
       "            <td>0</td>\n",
       "        </tr>\n",
       "        <tr>\n",
       "            <td>6</td>\n",
       "            <td>Salary_Scale</td>\n",
       "            <td>BIGINT</td>\n",
       "            <td>0</td>\n",
       "            <td>None</td>\n",
       "            <td>0</td>\n",
       "        </tr>\n",
       "        <tr>\n",
       "            <td>7</td>\n",
       "            <td>Salary</td>\n",
       "            <td>BIGINT</td>\n",
       "            <td>0</td>\n",
       "            <td>None</td>\n",
       "            <td>0</td>\n",
       "        </tr>\n",
       "        <tr>\n",
       "            <td>8</td>\n",
       "            <td>Type_of_Contract</td>\n",
       "            <td>TEXT</td>\n",
       "            <td>0</td>\n",
       "            <td>None</td>\n",
       "            <td>0</td>\n",
       "        </tr>\n",
       "        <tr>\n",
       "            <td>9</td>\n",
       "            <td>Emotional_Stability</td>\n",
       "            <td>FLOAT</td>\n",
       "            <td>0</td>\n",
       "            <td>None</td>\n",
       "            <td>0</td>\n",
       "        </tr>\n",
       "        <tr>\n",
       "            <td>10</td>\n",
       "            <td>Extraversion</td>\n",
       "            <td>FLOAT</td>\n",
       "            <td>0</td>\n",
       "            <td>None</td>\n",
       "            <td>0</td>\n",
       "        </tr>\n",
       "        <tr>\n",
       "            <td>11</td>\n",
       "            <td>Openness</td>\n",
       "            <td>FLOAT</td>\n",
       "            <td>0</td>\n",
       "            <td>None</td>\n",
       "            <td>0</td>\n",
       "        </tr>\n",
       "        <tr>\n",
       "            <td>12</td>\n",
       "            <td>Agreeableness</td>\n",
       "            <td>FLOAT</td>\n",
       "            <td>0</td>\n",
       "            <td>None</td>\n",
       "            <td>0</td>\n",
       "        </tr>\n",
       "        <tr>\n",
       "            <td>13</td>\n",
       "            <td>Reliability</td>\n",
       "            <td>FLOAT</td>\n",
       "            <td>0</td>\n",
       "            <td>None</td>\n",
       "            <td>0</td>\n",
       "        </tr>\n",
       "        <tr>\n",
       "            <td>14</td>\n",
       "            <td>Assessment_Score</td>\n",
       "            <td>FLOAT</td>\n",
       "            <td>0</td>\n",
       "            <td>None</td>\n",
       "            <td>0</td>\n",
       "        </tr>\n",
       "        <tr>\n",
       "            <td>15</td>\n",
       "            <td>Distance_Work_KM</td>\n",
       "            <td>BIGINT</td>\n",
       "            <td>0</td>\n",
       "            <td>None</td>\n",
       "            <td>0</td>\n",
       "        </tr>\n",
       "        <tr>\n",
       "            <td>16</td>\n",
       "            <td>Work_Engagement</td>\n",
       "            <td>FLOAT</td>\n",
       "            <td>0</td>\n",
       "            <td>None</td>\n",
       "            <td>0</td>\n",
       "        </tr>\n",
       "        <tr>\n",
       "            <td>17</td>\n",
       "            <td>Performance_Assessment</td>\n",
       "            <td>BIGINT</td>\n",
       "            <td>0</td>\n",
       "            <td>None</td>\n",
       "            <td>0</td>\n",
       "        </tr>\n",
       "    </tbody>\n",
       "</table>"
      ],
      "text/plain": [
       "[(0, 'Employee_ID', 'BIGINT', 0, None, 0),\n",
       " (1, 'Start_Month', 'DATETIME', 0, None, 0),\n",
       " (2, 'Stop_Month', 'DATETIME', 0, None, 0),\n",
       " (3, 'Gender', 'TEXT', 0, None, 0),\n",
       " (4, 'Birth_Date', 'DATETIME', 0, None, 0),\n",
       " (5, 'Department', 'TEXT', 0, None, 0),\n",
       " (6, 'Salary_Scale', 'BIGINT', 0, None, 0),\n",
       " (7, 'Salary', 'BIGINT', 0, None, 0),\n",
       " (8, 'Type_of_Contract', 'TEXT', 0, None, 0),\n",
       " (9, 'Emotional_Stability', 'FLOAT', 0, None, 0),\n",
       " (10, 'Extraversion', 'FLOAT', 0, None, 0),\n",
       " (11, 'Openness', 'FLOAT', 0, None, 0),\n",
       " (12, 'Agreeableness', 'FLOAT', 0, None, 0),\n",
       " (13, 'Reliability', 'FLOAT', 0, None, 0),\n",
       " (14, 'Assessment_Score', 'FLOAT', 0, None, 0),\n",
       " (15, 'Distance_Work_KM', 'BIGINT', 0, None, 0),\n",
       " (16, 'Work_Engagement', 'FLOAT', 0, None, 0),\n",
       " (17, 'Performance_Assessment', 'BIGINT', 0, None, 0)]"
      ]
     },
     "execution_count": 29,
     "metadata": {},
     "output_type": "execute_result"
    }
   ],
   "source": [
    "%%sql\n",
    "PRAGMA table_info(company);"
   ]
  },
  {
   "cell_type": "code",
   "execution_count": null,
   "metadata": {},
   "outputs": [
    {
     "ename": "ValueError",
     "evalue": "Pandas data cast to numpy dtype of object. Check input data with np.asarray(data).",
     "output_type": "error",
     "traceback": [
      "\u001b[31m---------------------------------------------------------------------------\u001b[39m",
      "\u001b[31mValueError\u001b[39m                                Traceback (most recent call last)",
      "\u001b[36mCell\u001b[39m\u001b[36m \u001b[39m\u001b[32mIn[55]\u001b[39m\u001b[32m, line 30\u001b[39m\n\u001b[32m     27\u001b[39m y = df_model[\u001b[33m'\u001b[39m\u001b[33mLeft\u001b[39m\u001b[33m'\u001b[39m]\n\u001b[32m     29\u001b[39m \u001b[38;5;66;03m# Fit logistic regression model\u001b[39;00m\n\u001b[32m---> \u001b[39m\u001b[32m30\u001b[39m model = \u001b[43msm\u001b[49m\u001b[43m.\u001b[49m\u001b[43mLogit\u001b[49m\u001b[43m(\u001b[49m\u001b[43my\u001b[49m\u001b[43m,\u001b[49m\u001b[43m \u001b[49m\u001b[43mX\u001b[49m\u001b[43m)\u001b[49m\n\u001b[32m     31\u001b[39m result = model.fit()\n\u001b[32m     33\u001b[39m \u001b[38;5;66;03m# Print model summary\u001b[39;00m\n",
      "\u001b[36mFile \u001b[39m\u001b[32m~/Documents/GitHub/elenafresch/.venv/lib/python3.11/site-packages/statsmodels/discrete/discrete_model.py:475\u001b[39m, in \u001b[36mBinaryModel.__init__\u001b[39m\u001b[34m(self, endog, exog, offset, check_rank, **kwargs)\u001b[39m\n\u001b[32m    472\u001b[39m \u001b[38;5;28;01mdef\u001b[39;00m\u001b[38;5;250m \u001b[39m\u001b[34m__init__\u001b[39m(\u001b[38;5;28mself\u001b[39m, endog, exog, offset=\u001b[38;5;28;01mNone\u001b[39;00m, check_rank=\u001b[38;5;28;01mTrue\u001b[39;00m, **kwargs):\n\u001b[32m    473\u001b[39m     \u001b[38;5;66;03m# unconditional check, requires no extra kwargs added by subclasses\u001b[39;00m\n\u001b[32m    474\u001b[39m     \u001b[38;5;28mself\u001b[39m._check_kwargs(kwargs)\n\u001b[32m--> \u001b[39m\u001b[32m475\u001b[39m     \u001b[38;5;28;43msuper\u001b[39;49m\u001b[43m(\u001b[49m\u001b[43m)\u001b[49m\u001b[43m.\u001b[49m\u001b[34;43m__init__\u001b[39;49m\u001b[43m(\u001b[49m\u001b[43mendog\u001b[49m\u001b[43m,\u001b[49m\u001b[43m \u001b[49m\u001b[43mexog\u001b[49m\u001b[43m,\u001b[49m\u001b[43m \u001b[49m\u001b[43moffset\u001b[49m\u001b[43m=\u001b[49m\u001b[43moffset\u001b[49m\u001b[43m,\u001b[49m\u001b[43m \u001b[49m\u001b[43mcheck_rank\u001b[49m\u001b[43m=\u001b[49m\u001b[43mcheck_rank\u001b[49m\u001b[43m,\u001b[49m\n\u001b[32m    476\u001b[39m \u001b[43m                     \u001b[49m\u001b[43m*\u001b[49m\u001b[43m*\u001b[49m\u001b[43mkwargs\u001b[49m\u001b[43m)\u001b[49m\n\u001b[32m    477\u001b[39m     \u001b[38;5;28;01mif\u001b[39;00m \u001b[38;5;129;01mnot\u001b[39;00m \u001b[38;5;28missubclass\u001b[39m(\u001b[38;5;28mself\u001b[39m.\u001b[34m__class__\u001b[39m, MultinomialModel):\n\u001b[32m    478\u001b[39m         \u001b[38;5;28;01mif\u001b[39;00m \u001b[38;5;129;01mnot\u001b[39;00m np.all((\u001b[38;5;28mself\u001b[39m.endog >= \u001b[32m0\u001b[39m) & (\u001b[38;5;28mself\u001b[39m.endog <= \u001b[32m1\u001b[39m)):\n",
      "\u001b[36mFile \u001b[39m\u001b[32m~/Documents/GitHub/elenafresch/.venv/lib/python3.11/site-packages/statsmodels/discrete/discrete_model.py:185\u001b[39m, in \u001b[36mDiscreteModel.__init__\u001b[39m\u001b[34m(self, endog, exog, check_rank, **kwargs)\u001b[39m\n\u001b[32m    183\u001b[39m \u001b[38;5;28;01mdef\u001b[39;00m\u001b[38;5;250m \u001b[39m\u001b[34m__init__\u001b[39m(\u001b[38;5;28mself\u001b[39m, endog, exog, check_rank=\u001b[38;5;28;01mTrue\u001b[39;00m, **kwargs):\n\u001b[32m    184\u001b[39m     \u001b[38;5;28mself\u001b[39m._check_rank = check_rank\n\u001b[32m--> \u001b[39m\u001b[32m185\u001b[39m     \u001b[38;5;28;43msuper\u001b[39;49m\u001b[43m(\u001b[49m\u001b[43m)\u001b[49m\u001b[43m.\u001b[49m\u001b[34;43m__init__\u001b[39;49m\u001b[43m(\u001b[49m\u001b[43mendog\u001b[49m\u001b[43m,\u001b[49m\u001b[43m \u001b[49m\u001b[43mexog\u001b[49m\u001b[43m,\u001b[49m\u001b[43m \u001b[49m\u001b[43m*\u001b[49m\u001b[43m*\u001b[49m\u001b[43mkwargs\u001b[49m\u001b[43m)\u001b[49m\n\u001b[32m    186\u001b[39m     \u001b[38;5;28mself\u001b[39m.raise_on_perfect_prediction = \u001b[38;5;28;01mFalse\u001b[39;00m  \u001b[38;5;66;03m# keep for backwards compat\u001b[39;00m\n\u001b[32m    187\u001b[39m     \u001b[38;5;28mself\u001b[39m.k_extra = \u001b[32m0\u001b[39m\n",
      "\u001b[36mFile \u001b[39m\u001b[32m~/Documents/GitHub/elenafresch/.venv/lib/python3.11/site-packages/statsmodels/base/model.py:270\u001b[39m, in \u001b[36mLikelihoodModel.__init__\u001b[39m\u001b[34m(self, endog, exog, **kwargs)\u001b[39m\n\u001b[32m    269\u001b[39m \u001b[38;5;28;01mdef\u001b[39;00m\u001b[38;5;250m \u001b[39m\u001b[34m__init__\u001b[39m(\u001b[38;5;28mself\u001b[39m, endog, exog=\u001b[38;5;28;01mNone\u001b[39;00m, **kwargs):\n\u001b[32m--> \u001b[39m\u001b[32m270\u001b[39m     \u001b[38;5;28;43msuper\u001b[39;49m\u001b[43m(\u001b[49m\u001b[43m)\u001b[49m\u001b[43m.\u001b[49m\u001b[34;43m__init__\u001b[39;49m\u001b[43m(\u001b[49m\u001b[43mendog\u001b[49m\u001b[43m,\u001b[49m\u001b[43m \u001b[49m\u001b[43mexog\u001b[49m\u001b[43m,\u001b[49m\u001b[43m \u001b[49m\u001b[43m*\u001b[49m\u001b[43m*\u001b[49m\u001b[43mkwargs\u001b[49m\u001b[43m)\u001b[49m\n\u001b[32m    271\u001b[39m     \u001b[38;5;28mself\u001b[39m.initialize()\n",
      "\u001b[36mFile \u001b[39m\u001b[32m~/Documents/GitHub/elenafresch/.venv/lib/python3.11/site-packages/statsmodels/base/model.py:95\u001b[39m, in \u001b[36mModel.__init__\u001b[39m\u001b[34m(self, endog, exog, **kwargs)\u001b[39m\n\u001b[32m     93\u001b[39m missing = kwargs.pop(\u001b[33m'\u001b[39m\u001b[33mmissing\u001b[39m\u001b[33m'\u001b[39m, \u001b[33m'\u001b[39m\u001b[33mnone\u001b[39m\u001b[33m'\u001b[39m)\n\u001b[32m     94\u001b[39m hasconst = kwargs.pop(\u001b[33m'\u001b[39m\u001b[33mhasconst\u001b[39m\u001b[33m'\u001b[39m, \u001b[38;5;28;01mNone\u001b[39;00m)\n\u001b[32m---> \u001b[39m\u001b[32m95\u001b[39m \u001b[38;5;28mself\u001b[39m.data = \u001b[38;5;28;43mself\u001b[39;49m\u001b[43m.\u001b[49m\u001b[43m_handle_data\u001b[49m\u001b[43m(\u001b[49m\u001b[43mendog\u001b[49m\u001b[43m,\u001b[49m\u001b[43m \u001b[49m\u001b[43mexog\u001b[49m\u001b[43m,\u001b[49m\u001b[43m \u001b[49m\u001b[43mmissing\u001b[49m\u001b[43m,\u001b[49m\u001b[43m \u001b[49m\u001b[43mhasconst\u001b[49m\u001b[43m,\u001b[49m\n\u001b[32m     96\u001b[39m \u001b[43m                              \u001b[49m\u001b[43m*\u001b[49m\u001b[43m*\u001b[49m\u001b[43mkwargs\u001b[49m\u001b[43m)\u001b[49m\n\u001b[32m     97\u001b[39m \u001b[38;5;28mself\u001b[39m.k_constant = \u001b[38;5;28mself\u001b[39m.data.k_constant\n\u001b[32m     98\u001b[39m \u001b[38;5;28mself\u001b[39m.exog = \u001b[38;5;28mself\u001b[39m.data.exog\n",
      "\u001b[36mFile \u001b[39m\u001b[32m~/Documents/GitHub/elenafresch/.venv/lib/python3.11/site-packages/statsmodels/base/model.py:135\u001b[39m, in \u001b[36mModel._handle_data\u001b[39m\u001b[34m(self, endog, exog, missing, hasconst, **kwargs)\u001b[39m\n\u001b[32m    134\u001b[39m \u001b[38;5;28;01mdef\u001b[39;00m\u001b[38;5;250m \u001b[39m\u001b[34m_handle_data\u001b[39m(\u001b[38;5;28mself\u001b[39m, endog, exog, missing, hasconst, **kwargs):\n\u001b[32m--> \u001b[39m\u001b[32m135\u001b[39m     data = \u001b[43mhandle_data\u001b[49m\u001b[43m(\u001b[49m\u001b[43mendog\u001b[49m\u001b[43m,\u001b[49m\u001b[43m \u001b[49m\u001b[43mexog\u001b[49m\u001b[43m,\u001b[49m\u001b[43m \u001b[49m\u001b[43mmissing\u001b[49m\u001b[43m,\u001b[49m\u001b[43m \u001b[49m\u001b[43mhasconst\u001b[49m\u001b[43m,\u001b[49m\u001b[43m \u001b[49m\u001b[43m*\u001b[49m\u001b[43m*\u001b[49m\u001b[43mkwargs\u001b[49m\u001b[43m)\u001b[49m\n\u001b[32m    136\u001b[39m     \u001b[38;5;66;03m# kwargs arrays could have changed, easier to just attach here\u001b[39;00m\n\u001b[32m    137\u001b[39m     \u001b[38;5;28;01mfor\u001b[39;00m key \u001b[38;5;129;01min\u001b[39;00m kwargs:\n",
      "\u001b[36mFile \u001b[39m\u001b[32m~/Documents/GitHub/elenafresch/.venv/lib/python3.11/site-packages/statsmodels/base/data.py:675\u001b[39m, in \u001b[36mhandle_data\u001b[39m\u001b[34m(endog, exog, missing, hasconst, **kwargs)\u001b[39m\n\u001b[32m    672\u001b[39m     exog = np.asarray(exog)\n\u001b[32m    674\u001b[39m klass = handle_data_class_factory(endog, exog)\n\u001b[32m--> \u001b[39m\u001b[32m675\u001b[39m \u001b[38;5;28;01mreturn\u001b[39;00m \u001b[43mklass\u001b[49m\u001b[43m(\u001b[49m\u001b[43mendog\u001b[49m\u001b[43m,\u001b[49m\u001b[43m \u001b[49m\u001b[43mexog\u001b[49m\u001b[43m=\u001b[49m\u001b[43mexog\u001b[49m\u001b[43m,\u001b[49m\u001b[43m \u001b[49m\u001b[43mmissing\u001b[49m\u001b[43m=\u001b[49m\u001b[43mmissing\u001b[49m\u001b[43m,\u001b[49m\u001b[43m \u001b[49m\u001b[43mhasconst\u001b[49m\u001b[43m=\u001b[49m\u001b[43mhasconst\u001b[49m\u001b[43m,\u001b[49m\n\u001b[32m    676\u001b[39m \u001b[43m             \u001b[49m\u001b[43m*\u001b[49m\u001b[43m*\u001b[49m\u001b[43mkwargs\u001b[49m\u001b[43m)\u001b[49m\n",
      "\u001b[36mFile \u001b[39m\u001b[32m~/Documents/GitHub/elenafresch/.venv/lib/python3.11/site-packages/statsmodels/base/data.py:84\u001b[39m, in \u001b[36mModelData.__init__\u001b[39m\u001b[34m(self, endog, exog, missing, hasconst, **kwargs)\u001b[39m\n\u001b[32m     82\u001b[39m     \u001b[38;5;28mself\u001b[39m.orig_endog = endog\n\u001b[32m     83\u001b[39m     \u001b[38;5;28mself\u001b[39m.orig_exog = exog\n\u001b[32m---> \u001b[39m\u001b[32m84\u001b[39m     \u001b[38;5;28mself\u001b[39m.endog, \u001b[38;5;28mself\u001b[39m.exog = \u001b[38;5;28;43mself\u001b[39;49m\u001b[43m.\u001b[49m\u001b[43m_convert_endog_exog\u001b[49m\u001b[43m(\u001b[49m\u001b[43mendog\u001b[49m\u001b[43m,\u001b[49m\u001b[43m \u001b[49m\u001b[43mexog\u001b[49m\u001b[43m)\u001b[49m\n\u001b[32m     86\u001b[39m \u001b[38;5;28mself\u001b[39m.const_idx = \u001b[38;5;28;01mNone\u001b[39;00m\n\u001b[32m     87\u001b[39m \u001b[38;5;28mself\u001b[39m.k_constant = \u001b[32m0\u001b[39m\n",
      "\u001b[36mFile \u001b[39m\u001b[32m~/Documents/GitHub/elenafresch/.venv/lib/python3.11/site-packages/statsmodels/base/data.py:509\u001b[39m, in \u001b[36mPandasData._convert_endog_exog\u001b[39m\u001b[34m(self, endog, exog)\u001b[39m\n\u001b[32m    507\u001b[39m exog = exog \u001b[38;5;28;01mif\u001b[39;00m exog \u001b[38;5;129;01mis\u001b[39;00m \u001b[38;5;28;01mNone\u001b[39;00m \u001b[38;5;28;01melse\u001b[39;00m np.asarray(exog)\n\u001b[32m    508\u001b[39m \u001b[38;5;28;01mif\u001b[39;00m endog.dtype == \u001b[38;5;28mobject\u001b[39m \u001b[38;5;129;01mor\u001b[39;00m exog \u001b[38;5;129;01mis\u001b[39;00m \u001b[38;5;129;01mnot\u001b[39;00m \u001b[38;5;28;01mNone\u001b[39;00m \u001b[38;5;129;01mand\u001b[39;00m exog.dtype == \u001b[38;5;28mobject\u001b[39m:\n\u001b[32m--> \u001b[39m\u001b[32m509\u001b[39m     \u001b[38;5;28;01mraise\u001b[39;00m \u001b[38;5;167;01mValueError\u001b[39;00m(\u001b[33m\"\u001b[39m\u001b[33mPandas data cast to numpy dtype of object. \u001b[39m\u001b[33m\"\u001b[39m\n\u001b[32m    510\u001b[39m                      \u001b[33m\"\u001b[39m\u001b[33mCheck input data with np.asarray(data).\u001b[39m\u001b[33m\"\u001b[39m)\n\u001b[32m    511\u001b[39m \u001b[38;5;28;01mreturn\u001b[39;00m \u001b[38;5;28msuper\u001b[39m()._convert_endog_exog(endog, exog)\n",
      "\u001b[31mValueError\u001b[39m: Pandas data cast to numpy dtype of object. Check input data with np.asarray(data)."
     ]
    }
   ],
   "source": [
    "import pandas as pd\n",
    "import numpy as np\n",
    "from datetime import datetime\n",
    "import statsmodels.api as sm\n",
    "import matplotlib.pyplot as plt\n",
    "\n",
    "# Load your dataset\n",
    "df = pd.read_excel(\"Highberg.xlsx\", parse_dates=[\"Start_Month\", \"Stop_Month\", \"Birth_Date\"])\n",
    "\n",
    "# Filter employees still working on 1 August 2020\n",
    "cutoff_date = pd.Timestamp(\"2020-08-01\")\n",
    "df = df[df['Start_Month'] <= cutoff_date]\n",
    "df = df[(df['Stop_Month'].isna()) | (df['Stop_Month'] >= cutoff_date)]\n",
    "\n",
    "# Create target variable: 1 if they left before 1 Aug 2021, else 0\n",
    "df['Left_Within_12m'] = df['Stop_Month'].apply(\n",
    "    lambda x: 1 if pd.notna(x) and cutoff_date < x <= cutoff_date + pd.DateOffset(years=1) else 0\n",
    ")\n",
    "\n",
    "# Convert birth date to age\n",
    "df['Age'] = ((cutoff_date - df['Birth_Date']).dt.days / 365.25).astype(int)\n",
    "\n",
    "# Select features\n",
    "'''features = [\n",
    "    'Age', 'Gender', 'Department', 'Salary_Scale', 'Salary',\n",
    "    'Type_of_Contract', 'Emotional_Stability', 'Extraversion',\n",
    "    'Openness', 'Agreeableness', 'Reliability', 'Assessment_Score',\n",
    "    'Distance_Work_KM', 'Work_Engagement', 'Performance_Assessment'\n",
    "]'''\n",
    "\n",
    "features = [\n",
    "    'Age', 'Salary', 'Work_Engagement', 'Type_of_Contract', 'Department'\n",
    "]\n",
    "\n",
    "\n",
    "# One-hot encode categorical variables\n",
    "df_encoded = pd.get_dummies(df[features], drop_first=True)\n",
    "\n",
    "# Combine target and features for cleaning\n",
    "df_model = pd.concat([df_encoded, df['Left_Within_12m']], axis=1)\n",
    "\n",
    "# Drop rows with any missing values\n",
    "df_model = df_model.dropna()\n",
    "\n",
    "# Check and convert all columns to numeric\n",
    "df_model = df_model.apply(pd.to_numeric, errors='coerce')\n",
    "\n",
    "# Separate X and y after cleaning\n",
    "y = df_model['Left_Within_12m'].astype(int)\n",
    "X = df_model.drop(columns=['Left_Within_12m'])\n",
    "\n",
    "# Add intercept\n",
    "X = sm.add_constant(X)\n",
    "\n",
    "# Convert to float arrays\n",
    "X_np = np.asarray(X).astype(float)\n",
    "y_np = np.asarray(y).astype(float)\n",
    "\n",
    "print(df['Left_Within_12m'].value_counts(normalize=True))\n",
    "\n",
    "# Fit logistic regression\n",
    "logit_model = sm.Logit(y_np, X_np)\n",
    "result = logit_model.fit()\n",
    "print(result.summary())\n",
    "\n",
    "# Show odds ratios\n",
    "odds_ratios = pd.DataFrame({\n",
    "    \"OR\": np.exp(result.params),\n",
    "    \"p-value\": result.pvalues\n",
    "}).sort_values(by=\"OR\", ascending=False)\n",
    "print(odds_ratios)\n"
   ]
  },
  {
   "cell_type": "markdown",
   "metadata": {},
   "source": [
    "#### Freestyle\n",
    "Besides answering the questions, we ask you to carry out a brief analysis of the data. You can choose which analyses you wish to carry out.\n",
    "\n",
    "\n",
    "* Is the difference in avg salary across sexes statistically significant? And what could explain a difference (if there is one)?\n",
    "* Correlation between personality traits and department\n",
    "* Correlation between contract type and department\n",
    "* Visualization of average numeric variables between leavers/stayers, and between sexes, departments\n",
    "* Descriptive statistics\n"
   ]
  }
 ],
 "metadata": {
  "kernelspec": {
   "display_name": ".venv",
   "language": "python",
   "name": "python3"
  },
  "language_info": {
   "codemirror_mode": {
    "name": "ipython",
    "version": 3
   },
   "file_extension": ".py",
   "mimetype": "text/x-python",
   "name": "python",
   "nbconvert_exporter": "python",
   "pygments_lexer": "ipython3",
   "version": "3.11.11"
  }
 },
 "nbformat": 4,
 "nbformat_minor": 2
}
